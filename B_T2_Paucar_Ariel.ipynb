{
  "nbformat": 4,
  "nbformat_minor": 0,
  "metadata": {
    "colab": {
      "provenance": [],
      "authorship_tag": "ABX9TyMAmoAGISX6w3DdvbrQIFUh",
      "include_colab_link": true
    },
    "kernelspec": {
      "name": "python3",
      "display_name": "Python 3"
    },
    "language_info": {
      "name": "python"
    }
  },
  "cells": [
    {
      "cell_type": "markdown",
      "metadata": {
        "id": "view-in-github",
        "colab_type": "text"
      },
      "source": [
        "<a href=\"https://colab.research.google.com/github/Arielp22/hola_mundo/blob/main/B_T2_Paucar_Ariel.ipynb\" target=\"_parent\"><img src=\"https://colab.research.google.com/assets/colab-badge.svg\" alt=\"Open In Colab\"/></a>"
      ]
    },
    {
      "cell_type": "markdown",
      "source": [
        "Trabajo 2 - TIC\n"
      ],
      "metadata": {
        "id": "wplsRZWBf0lN"
      }
    },
    {
      "cell_type": "markdown",
      "source": [
        "Hola Mundo: Escribe un programa que imprima \"Hola, Mundo!\" en la pantalla."
      ],
      "metadata": {
        "id": "oZLXYGVmhsLl"
      }
    },
    {
      "cell_type": "code",
      "execution_count": 1,
      "metadata": {
        "colab": {
          "base_uri": "https://localhost:8080/"
        },
        "id": "-NHL0gB9ffd6",
        "outputId": "59e6984f-5f66-4072-bf06-6c8a7c3fc0d8"
      },
      "outputs": [
        {
          "output_type": "stream",
          "name": "stdout",
          "text": [
            "hola mundo\n"
          ]
        }
      ],
      "source": [
        "print('hola mundo')\n"
      ]
    },
    {
      "cell_type": "markdown",
      "source": [
        "Suma de dos números: Escribe un programa que pida al usuario dos números y los sume.\n"
      ],
      "metadata": {
        "id": "YN8rjQBSlHOS"
      }
    },
    {
      "cell_type": "code",
      "source": [
        "numero1 = float(input(\"Por favor, ingresa el primer número: \"))\n",
        "numero2 = float(input(\"Por favor, ingresa el segundo número: \"))\n",
        "suma = numero1 + numero2\n",
        "print(\"La suma de\", numero1, \"y\", numero2, \"es igual a:\", suma)"
      ],
      "metadata": {
        "colab": {
          "base_uri": "https://localhost:8080/"
        },
        "id": "ih5dW9dGlIFi",
        "outputId": "9eb76bcd-812a-4cc0-8250-e94a4c56aa66"
      },
      "execution_count": 7,
      "outputs": [
        {
          "output_type": "stream",
          "name": "stdout",
          "text": [
            "Por favor, ingresa el primer número: 2\n",
            "Por favor, ingresa el segundo número: 3\n",
            "La suma de 2.0 y 3.0 es igual a: 5.0\n"
          ]
        }
      ]
    },
    {
      "cell_type": "markdown",
      "source": [
        "Par o Impar: Escribe un programa que determine si un número introducido por el usuario es par o impar."
      ],
      "metadata": {
        "id": "ZkrUX1MnhuNU"
      }
    },
    {
      "cell_type": "code",
      "source": [
        "numero = int(input(\"Por favor, ingresa un número entero: \"))\n",
        "\n",
        "# Comprobar si el número es par o impar\n",
        "if numero % 2 == 0:\n",
        "    print(\"El número ingresado es par.\")\n",
        "else:\n",
        "    print(\"El número ingresado es impar.\")"
      ],
      "metadata": {
        "colab": {
          "base_uri": "https://localhost:8080/"
        },
        "id": "ptS9QZVHifH1",
        "outputId": "546c9f99-5c8a-41c7-89fc-65c969ef30a7"
      },
      "execution_count": 2,
      "outputs": [
        {
          "output_type": "stream",
          "name": "stdout",
          "text": [
            "Por favor, ingresa un número entero: 12\n",
            "El número ingresado es par.\n"
          ]
        }
      ]
    },
    {
      "cell_type": "markdown",
      "source": [
        "Calculadora básica: Escribe un programa que realice operaciones básicas (suma, resta, multiplicación y división) entre dos números introducidos por el usuario."
      ],
      "metadata": {
        "id": "useKtzl_ibHs"
      }
    },
    {
      "cell_type": "code",
      "source": [
        "# Pedimos al usuario que introduzca los dos números\n",
        "numero1 = float(input(\"Introduce el primer número: \"))\n",
        "numero2 = float(input(\"Introduce el segundo número: \"))\n",
        "\n",
        "# Realizamos las operaciones básicas\n",
        "suma = numero1 + numero2\n",
        "resta = numero1 - numero2\n",
        "multiplicacion = numero1 * numero2\n",
        "\n",
        "# Verificamos si el segundo número no es cero antes de hacer la división\n",
        "if numero2 != 0:\n",
        "    division = numero1 / numero2\n",
        "else:\n",
        "    division = \"No se puede dividir por cero\"\n",
        "\n",
        "# Imprimimos los resultados\n",
        "print(\"Suma:\", suma)\n",
        "print(\"Resta:\", resta)\n",
        "print(\"Multiplicación:\", multiplicacion)\n",
        "print(\"División:\", division)"
      ],
      "metadata": {
        "colab": {
          "base_uri": "https://localhost:8080/"
        },
        "id": "rPCNY66ikp27",
        "outputId": "bba6306b-97e1-4abd-cf71-5c2fff40557d"
      },
      "execution_count": 15,
      "outputs": [
        {
          "output_type": "stream",
          "name": "stdout",
          "text": [
            "Introduce el primer número: 5\n",
            "Introduce el segundo número: 5\n",
            "Suma: 10.0\n",
            "Resta: 0.0\n",
            "Multiplicación: 25.0\n",
            "División: 1.0\n"
          ]
        }
      ]
    },
    {
      "cell_type": "markdown",
      "source": [
        "Número mayor: Escribe un programa que pida tres números al usuario y determine cuál es el mayor."
      ],
      "metadata": {
        "id": "kTIi0NHnitcU"
      }
    },
    {
      "cell_type": "code",
      "source": [
        "# Pedimos al usuario que introduzca los tres números\n",
        "numero1 = float(input(\"Introduce el primer número: \"))\n",
        "numero2 = float(input(\"Introduce el segundo número: \"))\n",
        "numero3 = float(input(\"Introduce el tercer número: \"))\n",
        "\n",
        "# Inicializamos una variable para almacenar el número mayor\n",
        "mayor = numero1\n",
        "\n",
        "# Comparamos cada número con el mayor actual y actualizamos si es necesario\n",
        "if numero2 > mayor:\n",
        "    mayor = numero2\n",
        "if numero3 > mayor:\n",
        "    mayor = numero3\n",
        "\n",
        "# Imprimimos el resultado\n",
        "print(\"El número mayor es:\", mayor)"
      ],
      "metadata": {
        "colab": {
          "base_uri": "https://localhost:8080/"
        },
        "id": "06ltnOD4idf8",
        "outputId": "1374730f-73e7-4ed6-f0f1-0fe76fa7fa83"
      },
      "execution_count": 14,
      "outputs": [
        {
          "output_type": "stream",
          "name": "stdout",
          "text": [
            "Introduce el primer número: 5\n",
            "Introduce el segundo número: 5\n",
            "Introduce el tercer número: 6\n",
            "El número mayor es: 6.0\n"
          ]
        }
      ]
    },
    {
      "cell_type": "markdown",
      "source": [
        "Conversión de grados Celsius a Fahrenheit: Escribe un programa que convierta una temperatura dada en grados Celsius a grados Fahrenheit."
      ],
      "metadata": {
        "id": "QiJkWW5vi38L"
      }
    },
    {
      "cell_type": "code",
      "source": [
        "# Pedimos al usuario que introduzca la temperatura en grados Celsius\n",
        "celsius = float(input(\"Introduce la temperatura en grados Celsius: \"))\n",
        "\n",
        "# Convertimos la temperatura a grados Fahrenheit utilizando la fórmula: F = (C * 9/5) + 32\n",
        "fahrenheit = (celsius * 9/5) + 32\n",
        "\n",
        "# Imprimimos el resultado\n",
        "print(\"La temperatura en grados Fahrenheit es:\", fahrenheit)"
      ],
      "metadata": {
        "colab": {
          "base_uri": "https://localhost:8080/"
        },
        "id": "xgX2ACx2jAPi",
        "outputId": "c95d4f6b-3e99-4ca4-f3d0-05c6c13395cd"
      },
      "execution_count": 12,
      "outputs": [
        {
          "output_type": "stream",
          "name": "stdout",
          "text": [
            "Introduce la temperatura en grados Celsius: 135\n",
            "La temperatura en grados Fahrenheit es: 275.0\n"
          ]
        }
      ]
    },
    {
      "cell_type": "markdown",
      "source": [
        "Cálculo del área de un círculo: Escribe un programa que calcule el área de un círculo a partir de su radio, ingresado por el usuario.\n"
      ],
      "metadata": {
        "id": "J-t0oV0civ4V"
      }
    },
    {
      "cell_type": "code",
      "source": [
        "# Pedimos al usuario que introduzca el radio del círculo\n",
        "radio = float(input(\"Introduce el radio del círculo: \"))\n",
        "\n",
        "# Calculamos el área del círculo utilizando la fórmula: A = π * r^2\n",
        "area = 3.14159 * radio ** 2\n",
        "\n",
        "# Imprimimos el resultado\n",
        "print(\"El área del círculo es:\", area)"
      ],
      "metadata": {
        "colab": {
          "base_uri": "https://localhost:8080/"
        },
        "id": "JcUpFZHejG-L",
        "outputId": "5aaf1b9f-261a-44e1-c82f-bcea5c3adc06"
      },
      "execution_count": 13,
      "outputs": [
        {
          "output_type": "stream",
          "name": "stdout",
          "text": [
            "Introduce el radio del círculo: 25\n",
            "El área del círculo es: 1963.4937499999999\n"
          ]
        }
      ]
    },
    {
      "cell_type": "markdown",
      "source": [
        "Cuenta atrás: Escribe un programa que cuente hacia atrás desde 10 hasta 0."
      ],
      "metadata": {
        "id": "MQe512WPjBGS"
      }
    },
    {
      "cell_type": "code",
      "source": [
        "# Utilizamos un bucle for para contar hacia atrás desde 10 hasta 0\n",
        "for i in range(10, -1, -1):\n",
        "    print(i)"
      ],
      "metadata": {
        "colab": {
          "base_uri": "https://localhost:8080/"
        },
        "id": "EwB0v-zFh1dE",
        "outputId": "d9147f0a-4474-4922-a649-0e1baa01aea9"
      },
      "execution_count": 16,
      "outputs": [
        {
          "output_type": "stream",
          "name": "stdout",
          "text": [
            "10\n",
            "9\n",
            "8\n",
            "7\n",
            "6\n",
            "5\n",
            "4\n",
            "3\n",
            "2\n",
            "1\n",
            "0\n"
          ]
        }
      ]
    },
    {
      "cell_type": "markdown",
      "source": [
        "Tabla de multiplicar: Escribe un programa que muestre la tabla de multiplicar de un número introducido por el usuario."
      ],
      "metadata": {
        "id": "sXGByDfljHv7"
      }
    },
    {
      "cell_type": "code",
      "source": [
        "# Pedimos al usuario que introduzca el número del cual desea ver la tabla de multiplicar\n",
        "numero = int(input(\"Introduce un número para ver su tabla de multiplicar: \"))\n",
        "\n",
        "# Mostramos la tabla de multiplicar del número introducido\n",
        "print(\"Tabla de multiplicar del\", numero, \":\")\n",
        "for i in range(1, 11):\n",
        "    print(numero, \"x\", i, \"=\", numero * i)"
      ],
      "metadata": {
        "colab": {
          "base_uri": "https://localhost:8080/"
        },
        "id": "J0xibRcqjPAc",
        "outputId": "b44357f3-f1f2-4e49-838d-1da32ec8583a"
      },
      "execution_count": 17,
      "outputs": [
        {
          "output_type": "stream",
          "name": "stdout",
          "text": [
            "Introduce un número para ver su tabla de multiplicar: 2\n",
            "Tabla de multiplicar del 2 :\n",
            "2 x 1 = 2\n",
            "2 x 2 = 4\n",
            "2 x 3 = 6\n",
            "2 x 4 = 8\n",
            "2 x 5 = 10\n",
            "2 x 6 = 12\n",
            "2 x 7 = 14\n",
            "2 x 8 = 16\n",
            "2 x 9 = 18\n",
            "2 x 10 = 20\n"
          ]
        }
      ]
    },
    {
      "cell_type": "markdown",
      "source": [
        "Números primos: Escribe un programa que determine si un número introducido por el usuario es primo."
      ],
      "metadata": {
        "id": "EjCvGYr9jUPD"
      }
    },
    {
      "cell_type": "code",
      "source": [
        "num = int(input(\"Introduce un número para verificar si es primo: \"))\n",
        "\n",
        "# Los números primos son mayores que 1\n",
        "if num > 1:\n",
        "    # Comprobamos si es divisible por algún número menor que él mismo\n",
        "    for i in range(2, num):\n",
        "        if (num % i) == 0:\n",
        "            print(num, \"no es un número primo\")\n",
        "            print(i, \"multiplicado por\", num // i, \"es\", num)\n",
        "            break\n",
        "    else:\n",
        "        print(num, \"es un número primo\")\n",
        "# Si el número es 0, 1 o negativo, no es primo\n",
        "else:\n",
        "    print(num, \"no es un número primo\")"
      ],
      "metadata": {
        "colab": {
          "base_uri": "https://localhost:8080/"
        },
        "id": "-WBultkhjVaz",
        "outputId": "7a867d03-2759-4050-edc5-236e6b1a6c2e"
      },
      "execution_count": 9,
      "outputs": [
        {
          "output_type": "stream",
          "name": "stdout",
          "text": [
            "Introduce un número para verificar si es primo: 2\n",
            "2 es un número primo\n"
          ]
        }
      ]
    },
    {
      "cell_type": "markdown",
      "source": [
        "Sumar números hasta un límite: Escribe un programa que sume todos los números naturales hasta un número límite introducido por el usuario."
      ],
      "metadata": {
        "id": "ifHhZYdajV7M"
      }
    },
    {
      "cell_type": "code",
      "source": [
        "# Pedimos al usuario que introduzca el número límite\n",
        "limite = int(input(\"Introduce un número límite: \"))\n",
        "\n",
        "# Inicializamos la variable para almacenar la suma\n",
        "suma = 0\n",
        "\n",
        "# Sumamos todos los números naturales hasta el número límite\n",
        "for i in range(1, limite + 1):\n",
        "    suma += i\n",
        "\n",
        "# Imprimimos el resultado\n",
        "print(\"La suma de todos los números naturales hasta\", limite, \"es:\", suma)"
      ],
      "metadata": {
        "colab": {
          "base_uri": "https://localhost:8080/"
        },
        "id": "t_m4UkKFjZVg",
        "outputId": "44438c56-74d5-4a8f-8260-fd12d72791b8"
      },
      "execution_count": 18,
      "outputs": [
        {
          "output_type": "stream",
          "name": "stdout",
          "text": [
            "Introduce un número límite: 5\n",
            "La suma de todos los números naturales hasta 5 es: 15\n"
          ]
        }
      ]
    },
    {
      "cell_type": "markdown",
      "source": [
        "Invertir una cadena: Escribe un programa que invierta una cadena introducida por el usuario.\n"
      ],
      "metadata": {
        "id": "9HmA5j28jZxD"
      }
    },
    {
      "cell_type": "code",
      "source": [
        "# Pedimos al usuario que introduzca la cadena\n",
        "cadena = input(\"Introduce una cadena: \")\n",
        "\n",
        "# Inicializamos una cadena vacía para almacenar la cadena invertida\n",
        "cadena_invertida = \"\"\n",
        "\n",
        "# Iteramos sobre la cadena de forma inversa y la agregamos a la cadena invertida\n",
        "for caracter in cadena[::-1]:\n",
        "    cadena_invertida += caracter\n",
        "\n",
        "# Imprimimos la cadena invertida\n",
        "print(\"Cadena invertida:\", cadena_invertida)"
      ],
      "metadata": {
        "colab": {
          "base_uri": "https://localhost:8080/"
        },
        "id": "srSBVkcIjcM8",
        "outputId": "d65796a3-813c-4b6d-c8f8-360ba31e059d"
      },
      "execution_count": 10,
      "outputs": [
        {
          "output_type": "stream",
          "name": "stdout",
          "text": [
            "Introduce una cadena: abcd\n",
            "Cadena invertida: dcba\n"
          ]
        }
      ]
    },
    {
      "cell_type": "markdown",
      "source": [
        "Contar vocales: Escribe un programa que cuente el número de vocales en una cadena introducida por el usuario."
      ],
      "metadata": {
        "id": "WAA2bvlXjc77"
      }
    },
    {
      "cell_type": "code",
      "source": [
        "# Pedimos al usuario que introduzca una cadena\n",
        "cadena = input(\"Introduce una cadena: \")\n",
        "\n",
        "# Convertimos la cadena a minúsculas para facilitar la comparación\n",
        "cadena = cadena.lower()\n",
        "\n",
        "# Inicializamos un contador para las vocales\n",
        "contador_vocales = 0\n",
        "\n",
        "# Definimos una lista de vocales\n",
        "vocales = ['a', 'e', 'i', 'o', 'u']\n",
        "\n",
        "# Contamos el número de vocales en la cadena\n",
        "for caracter in cadena:\n",
        "    if caracter in vocales:\n",
        "        contador_vocales += 1\n",
        "\n",
        "# Imprimimos el resultado\n",
        "print(\"El número de vocales en la cadena es:\", contador_vocales)"
      ],
      "metadata": {
        "colab": {
          "base_uri": "https://localhost:8080/"
        },
        "id": "AN1A-G14jgjN",
        "outputId": "5b3274ae-ec8d-47f7-a3de-9d27e4f3fdd8"
      },
      "execution_count": 19,
      "outputs": [
        {
          "output_type": "stream",
          "name": "stdout",
          "text": [
            "Introduce una cadena: bebe\n",
            "El número de vocales en la cadena es: 2\n"
          ]
        }
      ]
    },
    {
      "cell_type": "markdown",
      "source": [
        "Palíndromo: Escribe un programa que determine si una cadena introducida por el usuario es un palíndromo."
      ],
      "metadata": {
        "id": "xeB4kmcmjja6"
      }
    },
    {
      "cell_type": "code",
      "source": [
        "# Pedimos al usuario que introduzca la cadena\n",
        "cadena = input(\"Introduce una cadena: \")\n",
        "\n",
        "# Convertimos la cadena a minúsculas y eliminamos los espacios en blanco\n",
        "cadena = cadena.lower().replace(\" \", \"\")\n",
        "\n",
        "# Inicializamos una bandera para indicar si la cadena es un palíndromo\n",
        "es_palindromo = True\n",
        "\n",
        "# Comparamos los caracteres de la cadena original con su versión invertida\n",
        "for i in range(len(cadena) // 2):\n",
        "    if cadena[i] != cadena[-i - 1]:\n",
        "        es_palindromo = False\n",
        "        break\n",
        "\n",
        "# Imprimimos el resultado\n",
        "if es_palindromo:\n",
        "    print(\"La cadena es un palíndromo.\")\n",
        "else:\n",
        "    print(\"La cadena no es un palíndromo.\")"
      ],
      "metadata": {
        "colab": {
          "base_uri": "https://localhost:8080/"
        },
        "id": "JcNdHGwBjkJG",
        "outputId": "62cb61fb-719d-4965-87a4-e2bdb4c57428"
      },
      "execution_count": 11,
      "outputs": [
        {
          "output_type": "stream",
          "name": "stdout",
          "text": [
            "Introduce una cadena: nombre\n",
            "La cadena no es un palíndromo.\n"
          ]
        }
      ]
    },
    {
      "cell_type": "markdown",
      "source": [
        "Factorial de un número: Escribe un programa que calcule el factorial de un número introducido por el usuario."
      ],
      "metadata": {
        "id": "OUvS4Q-Ojmij"
      }
    },
    {
      "cell_type": "code",
      "source": [
        "# Pedimos al usuario que introduzca un número\n",
        "numero = int(input(\"Introduce un número para calcular su factorial: \"))\n",
        "\n",
        "# Inicializamos el factorial como 1\n",
        "factorial = 1\n",
        "\n",
        "# Calculamos el factorial del número\n",
        "for i in range(1, numero + 1):\n",
        "    factorial *= i\n",
        "\n",
        "# Imprimimos el resultado\n",
        "print(\"El factorial de\", numero, \"es:\", factorial)"
      ],
      "metadata": {
        "colab": {
          "base_uri": "https://localhost:8080/"
        },
        "id": "mKppGNXyjpCq",
        "outputId": "5d28a1ad-ec2d-4c87-e940-f478ff831726"
      },
      "execution_count": 20,
      "outputs": [
        {
          "output_type": "stream",
          "name": "stdout",
          "text": [
            "Introduce un número para calcular su factorial: 3\n",
            "El factorial de 3 es: 6\n"
          ]
        }
      ]
    },
    {
      "cell_type": "markdown",
      "source": [
        "Generar números aleatorios: Escribe un programa que genere y muestre 5 números aleatorios entre 1 y 100."
      ],
      "metadata": {
        "id": "RPjfIRcajpZa"
      }
    },
    {
      "cell_type": "code",
      "source": [
        "print(\"5 números pseudoaleatorios entre 1 y 100:\")\n",
        "for i in range(1, 6):\n",
        "    numero = ((i * 17) % 100) + 1\n",
        "    print(numero)"
      ],
      "metadata": {
        "colab": {
          "base_uri": "https://localhost:8080/"
        },
        "id": "i8rSlRCajtKb",
        "outputId": "7423f336-d19e-4b18-a0de-96924ff3c784"
      },
      "execution_count": 22,
      "outputs": [
        {
          "output_type": "stream",
          "name": "stdout",
          "text": [
            "5 números pseudoaleatorios entre 1 y 100:\n",
            "18\n",
            "35\n",
            "52\n",
            "69\n",
            "86\n"
          ]
        }
      ]
    },
    {
      "cell_type": "markdown",
      "source": [
        "Calculadora de índice de masa corporal (IMC): Escribe un programa que calcule el índice de masa corporal (IMC) a partir del peso y la altura introducidos por el usuario.\n"
      ],
      "metadata": {
        "id": "1T2Z-flSjv-a"
      }
    },
    {
      "cell_type": "code",
      "source": [
        "# Pedimos al usuario que introduzca su peso en kilogramos\n",
        "peso = float(input(\"Introduce tu peso en kilogramos: \"))\n",
        "\n",
        "# Pedimos al usuario que introduzca su altura en metros\n",
        "altura = float(input(\"Introduce tu altura en metros: \"))\n",
        "\n",
        "# Calculamos el índice de masa corporal (IMC) utilizando la fórmula: IMC = peso / altura^2\n",
        "imc = peso / (altura ** 2)\n",
        "\n",
        "# Imprimimos el resultado\n",
        "print(\"Tu índice de masa corporal (IMC) es:\", imc)"
      ],
      "metadata": {
        "colab": {
          "base_uri": "https://localhost:8080/"
        },
        "id": "euC0K6Ijjwpj",
        "outputId": "8edaa4f8-b961-4184-ae77-be76278bce21"
      },
      "execution_count": 21,
      "outputs": [
        {
          "output_type": "stream",
          "name": "stdout",
          "text": [
            "Introduce tu peso en kilogramos: 55\n",
            "Introduce tu altura en metros: 1.70\n",
            "Tu índice de masa corporal (IMC) es: 19.031141868512112\n"
          ]
        }
      ]
    }
  ]
}